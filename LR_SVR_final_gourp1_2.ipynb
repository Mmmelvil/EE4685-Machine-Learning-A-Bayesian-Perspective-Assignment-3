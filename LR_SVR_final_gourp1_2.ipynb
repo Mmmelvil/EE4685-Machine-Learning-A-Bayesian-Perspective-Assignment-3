{
 "cells": [
  {
   "cell_type": "code",
   "execution_count": 11,
   "metadata": {},
   "outputs": [],
   "source": [
    "import numpy as np\n",
    "import pandas as pd\n",
    "import matplotlib.pyplot as plt\n",
    "from sklearn.svm import SVR\n",
    "from sklearn.linear_model import LinearRegression\n",
    "from sklearn.metrics import mean_squared_error,mean_absolute_error, mean_absolute_percentage_error\n",
    "from sklearn.metrics import r2_score\n",
    "from datetime import date\n",
    "from sklearn.preprocessing import MinMaxScaler\n",
    "from sklearn.model_selection import train_test_split"
   ]
  },
  {
   "cell_type": "markdown",
   "metadata": {},
   "source": [
    "## Resampling the data on a daily basis"
   ]
  },
  {
   "cell_type": "code",
   "execution_count": 12,
   "metadata": {},
   "outputs": [
    {
     "data": {
      "text/html": [
       "<div>\n",
       "<style scoped>\n",
       "    .dataframe tbody tr th:only-of-type {\n",
       "        vertical-align: middle;\n",
       "    }\n",
       "\n",
       "    .dataframe tbody tr th {\n",
       "        vertical-align: top;\n",
       "    }\n",
       "\n",
       "    .dataframe thead th {\n",
       "        text-align: right;\n",
       "    }\n",
       "</style>\n",
       "<table border=\"1\" class=\"dataframe\">\n",
       "  <thead>\n",
       "    <tr style=\"text-align: right;\">\n",
       "      <th></th>\n",
       "      <th>Timestamp</th>\n",
       "      <th>Weighted_Price</th>\n",
       "    </tr>\n",
       "  </thead>\n",
       "  <tbody>\n",
       "    <tr>\n",
       "      <th>0</th>\n",
       "      <td>1325317920</td>\n",
       "      <td>4.39</td>\n",
       "    </tr>\n",
       "    <tr>\n",
       "      <th>1</th>\n",
       "      <td>1325317980</td>\n",
       "      <td>NaN</td>\n",
       "    </tr>\n",
       "    <tr>\n",
       "      <th>2</th>\n",
       "      <td>1325318040</td>\n",
       "      <td>NaN</td>\n",
       "    </tr>\n",
       "    <tr>\n",
       "      <th>3</th>\n",
       "      <td>1325318100</td>\n",
       "      <td>NaN</td>\n",
       "    </tr>\n",
       "    <tr>\n",
       "      <th>4</th>\n",
       "      <td>1325318160</td>\n",
       "      <td>NaN</td>\n",
       "    </tr>\n",
       "  </tbody>\n",
       "</table>\n",
       "</div>"
      ],
      "text/plain": [
       "    Timestamp  Weighted_Price\n",
       "0  1325317920            4.39\n",
       "1  1325317980             NaN\n",
       "2  1325318040             NaN\n",
       "3  1325318100             NaN\n",
       "4  1325318160             NaN"
      ]
     },
     "execution_count": 12,
     "metadata": {},
     "output_type": "execute_result"
    }
   ],
   "source": [
    "df = pd.read_csv('bitcoin_price.csv')\n",
    "df.drop(['Open','Close','Volume_(BTC)','Volume_(Currency)','High','Low'],axis=1, inplace=True)\n",
    "df.head()"
   ]
  },
  {
   "cell_type": "code",
   "execution_count": 13,
   "metadata": {},
   "outputs": [],
   "source": [
    "df.Timestamp = pd.to_datetime(df.Timestamp, unit='s')"
   ]
  },
  {
   "cell_type": "code",
   "execution_count": 14,
   "metadata": {},
   "outputs": [
    {
     "data": {
      "text/html": [
       "<div>\n",
       "<style scoped>\n",
       "    .dataframe tbody tr th:only-of-type {\n",
       "        vertical-align: middle;\n",
       "    }\n",
       "\n",
       "    .dataframe tbody tr th {\n",
       "        vertical-align: top;\n",
       "    }\n",
       "\n",
       "    .dataframe thead th {\n",
       "        text-align: right;\n",
       "    }\n",
       "</style>\n",
       "<table border=\"1\" class=\"dataframe\">\n",
       "  <thead>\n",
       "    <tr style=\"text-align: right;\">\n",
       "      <th></th>\n",
       "      <th>Weighted_Price</th>\n",
       "    </tr>\n",
       "    <tr>\n",
       "      <th>Timestamp</th>\n",
       "      <th></th>\n",
       "    </tr>\n",
       "  </thead>\n",
       "  <tbody>\n",
       "    <tr>\n",
       "      <th>2011-12-31</th>\n",
       "      <td>4.471603</td>\n",
       "    </tr>\n",
       "    <tr>\n",
       "      <th>2012-01-01</th>\n",
       "      <td>4.806667</td>\n",
       "    </tr>\n",
       "    <tr>\n",
       "      <th>2012-01-02</th>\n",
       "      <td>5.000000</td>\n",
       "    </tr>\n",
       "    <tr>\n",
       "      <th>2012-01-03</th>\n",
       "      <td>5.252500</td>\n",
       "    </tr>\n",
       "    <tr>\n",
       "      <th>2012-01-04</th>\n",
       "      <td>5.208159</td>\n",
       "    </tr>\n",
       "  </tbody>\n",
       "</table>\n",
       "</div>"
      ],
      "text/plain": [
       "            Weighted_Price\n",
       "Timestamp                 \n",
       "2011-12-31        4.471603\n",
       "2012-01-01        4.806667\n",
       "2012-01-02        5.000000\n",
       "2012-01-03        5.252500\n",
       "2012-01-04        5.208159"
      ]
     },
     "execution_count": 14,
     "metadata": {},
     "output_type": "execute_result"
    }
   ],
   "source": [
    "df.index = df.Timestamp\n",
    "df_day = df.resample('D').mean()\n",
    "df_day.head()"
   ]
  },
  {
   "cell_type": "markdown",
   "metadata": {},
   "source": [
    "## Finding the NaNs in the dataset"
   ]
  },
  {
   "cell_type": "code",
   "execution_count": 15,
   "metadata": {},
   "outputs": [
    {
     "name": "stdout",
     "output_type": "stream",
     "text": [
      "2015-01-06 00:00:00\n",
      "Weighted_Price   NaN\n",
      "Name: 2015-01-06 00:00:00, dtype: float64\n",
      "\n",
      "2015-01-07 00:00:00\n",
      "Weighted_Price   NaN\n",
      "Name: 2015-01-07 00:00:00, dtype: float64\n",
      "\n",
      "2015-01-08 00:00:00\n",
      "Weighted_Price   NaN\n",
      "Name: 2015-01-08 00:00:00, dtype: float64\n",
      "\n",
      "\n",
      "Data at 2015-01-05\n",
      "Weighted_Price    272.13919\n",
      "Name: 2015-01-05 00:00:00, dtype: float64\n",
      "\n",
      "Data at 2015-01-09\n",
      "Weighted_Price    291.885251\n",
      "Name: 2015-01-09 00:00:00, dtype: float64\n"
     ]
    }
   ],
   "source": [
    "\n",
    "# Find missing values\n",
    "for i, r in df_day.iterrows():\n",
    "    if r.isnull().sum() > 0:\n",
    "        print(i)\n",
    "        print(r)\n",
    "        print()\n",
    "\n",
    "# Print the records of the date between the missing records\n",
    "print()\n",
    "print('Data at 2015-01-05')\n",
    "print(df_day.loc['2015-01-05'])\n",
    "\n",
    "print()\n",
    "print('Data at 2015-01-09')\n",
    "print(df_day.loc['2015-01-09'])"
   ]
  },
  {
   "cell_type": "markdown",
   "metadata": {},
   "source": [
    "## Replace the NaNs with the mean value of the day before and after"
   ]
  },
  {
   "cell_type": "code",
   "execution_count": 16,
   "metadata": {},
   "outputs": [
    {
     "data": {
      "text/plain": [
       "Weighted_Price    0\n",
       "dtype: int64"
      ]
     },
     "execution_count": 16,
     "metadata": {},
     "output_type": "execute_result"
    }
   ],
   "source": [
    "missing_replacement = df['2015-01-05': '2015-01-09'].mean(numeric_only=True)\n",
    "df_day.loc['2015-01-06'] = missing_replacement\n",
    "df_day.loc['2015-01-07'] = missing_replacement\n",
    "df_day.loc['2015-01-08'] = missing_replacement\n",
    "\n",
    "# Any missing value?\n",
    "df_day.isnull().sum()"
   ]
  },
  {
   "cell_type": "code",
   "execution_count": 17,
   "metadata": {},
   "outputs": [
    {
     "data": {
      "text/plain": [
       "(3289, 1)"
      ]
     },
     "execution_count": 17,
     "metadata": {},
     "output_type": "execute_result"
    }
   ],
   "source": [
    "df_day.shape"
   ]
  },
  {
   "cell_type": "markdown",
   "metadata": {},
   "source": [
    "## Scale the dataset from 0 to 1"
   ]
  },
  {
   "cell_type": "code",
   "execution_count": 18,
   "metadata": {},
   "outputs": [
    {
     "data": {
      "image/png": "[encoded data removed]",
      "text/plain": [
       "<Figure size 432x288 with 1 Axes>"
      ]
     },
     "metadata": {
      "needs_background": "light"
     },
     "output_type": "display_data"
    }
   ],
   "source": [
    "scaler = MinMaxScaler()\n",
    "price = scaler.fit_transform(np.array(df_day['Weighted_Price']).reshape(-1,1))\n",
    "df_day['Weighted_Price'] = price\n",
    "\n",
    "plt.plot(df_day)\n",
    "plt.show()"
   ]
  },
  {
   "cell_type": "markdown",
   "metadata": {},
   "source": [
    "## Define the window size and split the training test data"
   ]
  },
  {
   "cell_type": "code",
   "execution_count": 19,
   "metadata": {},
   "outputs": [
    {
     "name": "stderr",
     "output_type": "stream",
     "text": [
      "<ipython-input-19-0a74eea23628>:4: SettingWithCopyWarning: \n",
      "A value is trying to be set on a copy of a slice from a DataFrame.\n",
      "Try using .loc[row_indexer,col_indexer] = value instead\n",
      "\n",
      "See the caveats in the documentation: https://pandas.pydata.org/pandas-docs/stable/user_guide/indexing.html#returning-a-view-versus-a-copy\n",
      "  df_train['Predicted_Price'] = df_train[['Weighted_Price']].shift(-window_size)\n"
     ]
    },
    {
     "data": {
      "text/plain": [
       "((565,),\n",
       " 100,\n",
       "             Weighted_Price\n",
       " Timestamp                 \n",
       " 2011-12-31        0.000005\n",
       " 2012-01-01        0.000016\n",
       " 2012-01-02        0.000023\n",
       " 2012-01-03        0.000032\n",
       " 2012-01-04        0.000030)"
      ]
     },
     "execution_count": 19,
     "metadata": {},
     "output_type": "execute_result"
    }
   ],
   "source": [
    "window_size = 100\n",
    "df_train = df_day.loc['2011-12-31':'2019-12-31']  # training the model with data set before 2019-12-31\n",
    "df_test = df_day.loc['2020-1-1':]\n",
    "df_train['Predicted_Price'] = df_train[['Weighted_Price']].shift(-window_size)\n",
    "\n",
    "X = df_train[['Weighted_Price']].values[:-window_size].reshape(-1,1)\n",
    "y = df_train.Predicted_Price.values[:-window_size]\n",
    "\n",
    "X_train, X_test, y_train, y_test = train_test_split(X,y, test_size=0.2, random_state= 100)\n",
    "y_test.shape, window_size,df_day.head()"
   ]
  },
  {
   "cell_type": "markdown",
   "metadata": {},
   "source": [
    "## Define and fit the LR and SVR models"
   ]
  },
  {
   "cell_type": "code",
   "execution_count": 20,
   "metadata": {},
   "outputs": [
    {
     "data": {
      "text/plain": [
       "LinearRegression()"
      ]
     },
     "execution_count": 20,
     "metadata": {},
     "output_type": "execute_result"
    }
   ],
   "source": [
    "svr = SVR(kernel='rbf', C=10)\n",
    "svr.fit(X_train, y_train)\n",
    "\n",
    "lr = LinearRegression()\n",
    "lr.fit(X_train, y_train)"
   ]
  },
  {
   "cell_type": "markdown",
   "metadata": {},
   "source": [
    "## Plot the SVR prediction results"
   ]
  },
  {
   "cell_type": "code",
   "execution_count": 21,
   "metadata": {},
   "outputs": [
    {
     "data": {
      "image/png": "[encoded data removed]",
      "text/plain": [
       "<Figure size 1224x504 with 2 Axes>"
      ]
     },
     "metadata": {
      "needs_background": "light"
     },
     "output_type": "display_data"
    }
   ],
   "source": [
    "plt.figure(figsize=(17,7))\n",
    "\n",
    "plt.subplot(1, 2, 1) #subplot\n",
    "plt.plot(df_day.index.values, df_day.Weighted_Price.values, 'blue', \n",
    "         label='Actual Price')\n",
    "plt.plot([date(2019, 12, 31), date(2019, 12, 31)], [0, 1], 'orange', \n",
    "         label='Prediction point')\n",
    "\n",
    "y_predict_svr_test = svr.predict( df_train[-window_size:].Weighted_Price.values.reshape(-1, 1) )  # predict 100 (sliding window size) prices after 2020-1-1\n",
    "\n",
    "plt.plot(df_test.index.values[:window_size], y_predict_svr_test, 'red',\n",
    "        label='Predicted Price')\n",
    "plt.xlim(date(2016, 12, 31), date(2020, 12, 31))\n",
    "\n",
    "\n",
    "plt.subplot(1, 2, 2)\n",
    "plt.plot(df_day.index.values, df_day.Weighted_Price.values, 'blue', \n",
    "         label='Actual Price')\n",
    "plt.plot([date(2019, 12, 31), date(2019, 12, 31)], [0, 1], 'orange', \n",
    "         label='Prediction point')\n",
    "\n",
    "y_predict_svr_test = svr.predict(\n",
    "    df_train[-window_size:].Weighted_Price.values.reshape(-1, 1),\n",
    ")\n",
    "y_predict_svr_test2 = svr.predict(\n",
    "    y_predict_svr_test.reshape(-1,1)\n",
    ")\n",
    "plt.plot(df_test.index.values[:window_size], y_predict_svr_test, 'red',\n",
    "        label='Predicted Price')\n",
    "plt.xlim(date(2019, 10, 1), date(2020, 12, 31))\n",
    "plt.legend()\n",
    "\n",
    "\n",
    "\n",
    "plt.suptitle('SVR Bitcoin Prediction',fontsize=20)\n",
    "plt.savefig('SVRpred.png')\n",
    "plt.show()"
   ]
  },
  {
   "cell_type": "markdown",
   "metadata": {},
   "source": [
    "## Plot the LR prediction results"
   ]
  },
  {
   "cell_type": "code",
   "execution_count": 22,
   "metadata": {},
   "outputs": [
    {
     "data": {
      "image/png": "[encoded data removed]",
      "text/plain": [
       "<Figure size 1224x504 with 2 Axes>"
      ]
     },
     "metadata": {
      "needs_background": "light"
     },
     "output_type": "display_data"
    }
   ],
   "source": [
    "plt.figure(figsize=(17,7))\n",
    "\n",
    "plt.subplot(1, 2, 1)\n",
    "plt.plot(df_day.index.values, df_day.Weighted_Price.values, 'blue', \n",
    "         label='Actual Price')\n",
    "plt.plot([date(2019, 12, 31), date(2019, 12, 31)], [0, 1], 'orange', \n",
    "         label='Prediction point')\n",
    "\n",
    "y_predict_lr_test = lr.predict(\n",
    "    df_train[-window_size:].Weighted_Price.values.reshape(-1, 1),\n",
    ")\n",
    "\n",
    "plt.plot(df_test.index.values[:window_size], y_predict_lr_test, 'red',\n",
    "        label='Predicted Price')\n",
    "plt.xlim(date(2016, 12, 31), date(2020, 12, 31))\n",
    "\n",
    "\n",
    "plt.subplot(1, 2, 2)\n",
    "plt.plot(df_day.index.values, df_day.Weighted_Price.values, 'blue', \n",
    "         label='Actual Price')\n",
    "plt.plot([date(2019, 12, 31), date(2019, 12, 31)], [0, 1], 'orange', \n",
    "         label='Prediction point')\n",
    "\n",
    "y_predict_lr_test = lr.predict(\n",
    "    df_train[-window_size:].Weighted_Price.values.reshape(-1, 1),\n",
    ")\n",
    "\n",
    "plt.plot(df_test.index.values[:window_size], y_predict_lr_test, 'red',\n",
    "        label='Predicted Price')\n",
    "plt.xlim(date(2019, 10, 1), date(2020, 12, 31))\n",
    "plt.legend()\n",
    "\n",
    "\n",
    "\n",
    "plt.suptitle('LR Bitcoin Prediction',fontsize=20)\n",
    "plt.savefig('LRpred.png')\n",
    "plt.show()"
   ]
  },
  {
   "cell_type": "markdown",
   "metadata": {},
   "source": [
    "## Performance Evaluation (four metrics: MAPE MAE MSE R2 score)"
   ]
  },
  {
   "cell_type": "code",
   "execution_count": 23,
   "metadata": {},
   "outputs": [
    {
     "data": {
      "text/plain": [
       "(0.03650236889629175, 0.0489656476149748)"
      ]
     },
     "execution_count": 23,
     "metadata": {},
     "output_type": "execute_result"
    }
   ],
   "source": [
    "y_test = df_test.Weighted_Price.values[0:window_size]\n",
    "mean_squared_error(y_test, y_predict_svr_test, squared=False), mean_squared_error(y_test, y_predict_lr_test, squared=False)"
   ]
  },
  {
   "cell_type": "code",
   "execution_count": 26,
   "metadata": {},
   "outputs": [
    {
     "data": {
      "text/plain": [
       "(0.1019270431480353, 0.002397634646353887)"
      ]
     },
     "execution_count": 26,
     "metadata": {},
     "output_type": "execute_result"
    }
   ],
   "source": [
    "mean_absolute_percentage_error(y_test, y_predict_svr_test), mean_absolute_percentage_error(y_test, y_predict_lr_test)"
   ]
  },
  {
   "cell_type": "code",
   "execution_count": 27,
   "metadata": {},
   "outputs": [
    {
     "data": {
      "text/plain": [
       "(0.02799858096993075, 0.042582136925290434)"
      ]
     },
     "execution_count": 27,
     "metadata": {},
     "output_type": "execute_result"
    }
   ],
   "source": [
    "mean_absolute_error(y_test, y_predict_svr_test), mean_absolute_error(y_test, y_predict_lr_test)"
   ]
  },
  {
   "cell_type": "code",
   "execution_count": 28,
   "metadata": {},
   "outputs": [
    {
     "data": {
      "text/plain": [
       "(0.4404835840430945, -0.006824416498641517)"
      ]
     },
     "execution_count": 28,
     "metadata": {},
     "output_type": "execute_result"
    }
   ],
   "source": [
    "r2_score(y_test, y_predict_svr_test), r2_score(y_test, y_predict_lr_test)"
   ]
  }
 ],
 "metadata": {
  "kernelspec": {
   "display_name": "Python 3",
   "language": "python",
   "name": "python3"
  },
  "language_info": {
   "codemirror_mode": {
    "name": "ipython",
    "version": 3
   },
   "file_extension": ".py",
   "mimetype": "text/x-python",
   "name": "python",
   "nbconvert_exporter": "python",
   "pygments_lexer": "ipython3",
   "version": "3.8.5"
  }
 },
 "nbformat": 4,
 "nbformat_minor": 4
}
